{
 "cells": [
  {
   "cell_type": "code",
   "execution_count": 1,
   "metadata": {},
   "outputs": [
    {
     "output_type": "execute_result",
     "data": {
      "text/plain": "['AUG', 'UUU', 'UAA']"
     },
     "metadata": {},
     "execution_count": 1
    }
   ],
   "source": [
    "list(map(''.join, zip(*[iter(\"AUGUUUUAA\")]*3)))"
   ]
  },
  {
   "cell_type": "code",
   "execution_count": 6,
   "metadata": {},
   "outputs": [
    {
     "output_type": "execute_result",
     "data": {
      "text/plain": "<zip at 0x7fdb781aa640>"
     },
     "metadata": {},
     "execution_count": 6
    }
   ],
   "source": [
    "zip(*[iter(\"AUGUUUUAA\")]*3)"
   ]
  },
  {
   "cell_type": "code",
   "execution_count": 7,
   "metadata": {},
   "outputs": [
    {
     "output_type": "execute_result",
     "data": {
      "text/plain": "<map at 0x7fdb78d1d880>"
     },
     "metadata": {},
     "execution_count": 7
    }
   ],
   "source": [
    "map(''.join, zip(*[iter(\"AUGUUUUAA\")]*3))"
   ]
  },
  {
   "cell_type": "code",
   "execution_count": 15,
   "metadata": {},
   "outputs": [
    {
     "output_type": "stream",
     "name": "stdout",
     "text": "<str_iterator object at 0x7fdb7842e730>\n<str_iterator object at 0x7fdb7842e730>\n<str_iterator object at 0x7fdb7842e730>\n"
    }
   ],
   "source": [
    "for i in [iter(\"AUGUUUUAA\")]*3:\n",
    "    print(i)"
   ]
  },
  {
   "cell_type": "code",
   "execution_count": 11,
   "metadata": {},
   "outputs": [
    {
     "output_type": "stream",
     "name": "stdout",
     "text": "('A', 'U', 'G')\n('U', 'U', 'U')\n('U', 'A', 'A')\n"
    }
   ],
   "source": [
    "for i in zip(*[iter(\"AUGUUUUAA\")]*3):\n",
    "    print(i)"
   ]
  },
  {
   "cell_type": "code",
   "execution_count": 9,
   "metadata": {},
   "outputs": [
    {
     "output_type": "stream",
     "name": "stdout",
     "text": "AUG\nUUU\nUAA\n"
    }
   ],
   "source": [
    "for i in map(''.join, zip(*[iter(\"AUGUUUUAA\")]*3)):\n",
    "    print(i)"
   ]
  }
 ],
 "metadata": {
  "language_info": {
   "codemirror_mode": {
    "name": "ipython",
    "version": 3
   },
   "file_extension": ".py",
   "mimetype": "text/x-python",
   "name": "python",
   "nbconvert_exporter": "python",
   "pygments_lexer": "ipython3",
   "version": "3.8.2-final"
  },
  "orig_nbformat": 2,
  "kernelspec": {
   "name": "python38264bit1d4863e4fded47de92252f38dbfffd27",
   "display_name": "Python 3.8.2 64-bit"
  }
 },
 "nbformat": 4,
 "nbformat_minor": 2
}